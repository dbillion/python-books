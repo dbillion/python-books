{
  "nbformat": 4,
  "nbformat_minor": 0,
  "metadata": {
    "colab": {
      "provenance": [],
      "authorship_tag": "ABX9TyNFHFgmSrREd35gIRYc6g5T",
      "include_colab_link": true
    },
    "kernelspec": {
      "name": "python3",
      "display_name": "Python 3"
    },
    "language_info": {
      "name": "python"
    }
  },
  "cells": [
    {
      "cell_type": "markdown",
      "metadata": {
        "id": "view-in-github",
        "colab_type": "text"
      },
      "source": [
        "<a href=\"https://colab.research.google.com/github/dbillion/python-books/blob/master/Professional_Python_tricks.ipynb\" target=\"_parent\"><img src=\"https://colab.research.google.com/assets/colab-badge.svg\" alt=\"Open In Colab\"/></a>"
      ]
    },
    {
      "cell_type": "markdown",
      "source": [
        "## how to use Assertions effectively\n",
        "## how to use comma complacent effectively\n",
        "## how to use context managers effectively\n",
        "## how to use underscores effectively\n",
        "## how to use string formatting effectively"
      ],
      "metadata": {
        "id": "7b32QkmWo59A"
      }
    },
    {
      "cell_type": "markdown",
      "source": [
        "# assertions are design to test for truth in python and is activated when the test fails else is generally silent\n",
        "\n",
        "## cons\n",
        "\n",
        "\n",
        "1. security risks and bugs into your applications\n",
        "2.  useless codes if disabled and it always true when used with a tuple 😞😞\n",
        "3. not good for data validation if its diabled for an interpreter for security reasons\n"
      ],
      "metadata": {
        "id": "P7W1-ebRpkgk"
      }
    },
    {
      "cell_type": "code",
      "source": [
        "def discount_price(product, discount):\n",
        "  price = int(product['price'] * (1.0 - discount))\n",
        "  assert 0 <= price <= product['price']\n",
        "  return price"
      ],
      "metadata": {
        "id": "dQB2oTm5lghG"
      },
      "execution_count": null,
      "outputs": []
    },
    {
      "cell_type": "code",
      "execution_count": null,
      "metadata": {
        "id": "kCoHrRACksiv"
      },
      "outputs": [],
      "source": [
        "bags = {'name': 'Addidas', 'price': 14900}\n",
        "books = {'name': 'Lord of the Rings', 'price': 3000}\n"
      ]
    },
    {
      "cell_type": "code",
      "source": [
        "discount_price(shoes, 0.25)"
      ],
      "metadata": {
        "colab": {
          "base_uri": "https://localhost:8080/"
        },
        "id": "19vCSWpNqHUC",
        "outputId": "03226fbd-bb65-4c5f-e7de-84372cfbecfe"
      },
      "execution_count": null,
      "outputs": [
        {
          "output_type": "execute_result",
          "data": {
            "text/plain": [
              "11175"
            ]
          },
          "metadata": {},
          "execution_count": 13
        }
      ]
    },
    {
      "cell_type": "code",
      "source": [
        "discount_price(books, 0.25)"
      ],
      "metadata": {
        "colab": {
          "base_uri": "https://localhost:8080/"
        },
        "id": "zo9tbTgUz-Zq",
        "outputId": "b775cc52-f0ae-4708-929c-5c5fe729309d"
      },
      "execution_count": null,
      "outputs": [
        {
          "output_type": "execute_result",
          "data": {
            "text/plain": [
              "2250"
            ]
          },
          "metadata": {},
          "execution_count": 14
        }
      ]
    },
    {
      "cell_type": "code",
      "source": [
        "apply_discount(books, 2.0)  // discount are always less than 1.0 above 1.0 ,you pay the customer for buying your product 😁😁"
      ],
      "metadata": {
        "colab": {
          "base_uri": "https://localhost:8080/",
          "height": 161
        },
        "id": "9cFLTiDY0Aik",
        "outputId": "35c3ad38-025e-4181-a838-da580e892c12"
      },
      "execution_count": null,
      "outputs": [
        {
          "output_type": "error",
          "ename": "SyntaxError",
          "evalue": "ignored",
          "traceback": [
            "\u001b[0;36m  File \u001b[0;32m\"<ipython-input-16-34484e2e6643>\"\u001b[0;36m, line \u001b[0;32m1\u001b[0m\n\u001b[0;31m    apply_discount(books, 2.0)  // discount are always less than 1.0 above 1.0 ,you pay the customer for buying your product 😁😁\u001b[0m\n\u001b[0m                                                                                                                             ^\u001b[0m\n\u001b[0;31mSyntaxError\u001b[0m\u001b[0;31m:\u001b[0m invalid character '😁' (U+1F601)\n"
          ]
        }
      ]
    },
    {
      "cell_type": "markdown",
      "source": [
        "##  Complacent Comma Placement"
      ],
      "metadata": {
        "id": "I9unzGRE2zcF"
      }
    },
    {
      "cell_type": "code",
      "source": [
        "names = ['Alice', 'Bob', 'Dilbert']"
      ],
      "metadata": {
        "id": "vh2d7s8Y0E-n"
      },
      "execution_count": null,
      "outputs": []
    },
    {
      "cell_type": "code",
      "source": [
        "names = [\n",
        " 'Alice',\n",
        " 'Bob',\n",
        " 'Dilbert' # <- Missing comma!\n",
        "\n",
        " ]"
      ],
      "metadata": {
        "id": "Jm0yFd-l284Z"
      },
      "execution_count": null,
      "outputs": []
    },
    {
      "cell_type": "markdown",
      "source": [
        "## 2.3 Context Managers and the \"with Statement\"\n",
        "\n",
        "### pros:\n",
        "\n",
        "1. That’s why the with statement is so useful. It\n",
        "makes properly acquiring and releasing resources a breeze.\n",
        "2. with statement is used effectively in\n",
        "the Python standard library is the threading"
      ],
      "metadata": {
        "id": "CZjo6IeQ3VEd"
      }
    },
    {
      "cell_type": "code",
      "source": [
        "with open('hello.txt', 'w') as f:\n",
        "  f.write('hello, world!')"
      ],
      "metadata": {
        "id": "xwshD1Hb2-Xz"
      },
      "execution_count": null,
      "outputs": []
    },
    {
      "cell_type": "code",
      "source": [
        "# f = open('hello.txt', 'w')\n",
        "#   try:\n",
        "#     f.write('hello, world')\n",
        "#   finally:\n",
        "#     f.close()"
      ],
      "metadata": {
        "id": "YRdlwc2_3kMD"
      },
      "execution_count": null,
      "outputs": []
    },
    {
      "cell_type": "markdown",
      "source": [
        "## with statement allows you to abstract away most\n",
        "## of the resource handling logic. Instead of having to write an explicit\n",
        "## try...finally statement each time\n",
        "\n",
        "![image.png](data:image/png;base64,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)"
      ],
      "metadata": {
        "id": "Pg3qV8x856uh"
      }
    },
    {
      "cell_type": "code",
      "source": [
        "class ManagedFile:\n",
        "  def __init__(self, name):\n",
        "    self.name = name\n",
        "  def __enter__(self):\n",
        "    self.file = open(self.name, 'w')\n",
        "    return self.file\n",
        "  def __exit__(self, exc_type, exc_val, exc_tb):\n",
        "    if self.file:\n",
        "      self.file.close()"
      ],
      "metadata": {
        "id": "PYWTqg946GyM"
      },
      "execution_count": null,
      "outputs": []
    },
    {
      "cell_type": "code",
      "source": [
        "with ManagedFile('hello.txt') as f:\n",
        " f.write('hello, world!')\n",
        " f.write('bye now')"
      ],
      "metadata": {
        "id": "UZ9Wst8b7YDa"
      },
      "execution_count": null,
      "outputs": []
    },
    {
      "cell_type": "markdown",
      "source": [
        "## Single Leading Underscore: “_var”\n",
        "## * importing with the * will exclude funcions unless module defines __all__ list that overides the behaviour\n",
        "\n",
        "## Single Trailing Underscore: “var_”\n",
        "1. append a single underscore to break the naming conflict:\n",
        "\n",
        "\n"
      ],
      "metadata": {
        "id": "KCJWP1bi7zsA"
      }
    },
    {
      "cell_type": "code",
      "source": [
        "class Test:\n",
        "  def __init__(self):\n",
        "    self.foo = 11\n",
        "    self._bar = 23\n",
        "    self.__baz = 23"
      ],
      "metadata": {
        "id": "_fz50ChZB59k"
      },
      "execution_count": null,
      "outputs": []
    },
    {
      "cell_type": "code",
      "source": [
        "t = Test()"
      ],
      "metadata": {
        "id": "MjbUcQOSCGes"
      },
      "execution_count": null,
      "outputs": []
    },
    {
      "cell_type": "code",
      "source": [
        "dir(t)"
      ],
      "metadata": {
        "colab": {
          "base_uri": "https://localhost:8080/"
        },
        "id": "RdJ0N1e-CHm2",
        "outputId": "ca5bc6bb-a9c4-4f09-a08c-4dc3e2ffe170"
      },
      "execution_count": null,
      "outputs": [
        {
          "output_type": "execute_result",
          "data": {
            "text/plain": [
              "['_Test__baz',\n",
              " '__class__',\n",
              " '__delattr__',\n",
              " '__dict__',\n",
              " '__dir__',\n",
              " '__doc__',\n",
              " '__eq__',\n",
              " '__format__',\n",
              " '__ge__',\n",
              " '__getattribute__',\n",
              " '__gt__',\n",
              " '__hash__',\n",
              " '__init__',\n",
              " '__init_subclass__',\n",
              " '__le__',\n",
              " '__lt__',\n",
              " '__module__',\n",
              " '__ne__',\n",
              " '__new__',\n",
              " '__reduce__',\n",
              " '__reduce_ex__',\n",
              " '__repr__',\n",
              " '__setattr__',\n",
              " '__sizeof__',\n",
              " '__str__',\n",
              " '__subclasshook__',\n",
              " '__weakref__',\n",
              " '_bar',\n",
              " 'foo']"
            ]
          },
          "metadata": {},
          "execution_count": 25
        }
      ]
    },
    {
      "cell_type": "code",
      "source": [
        "for _ in range(32):\n",
        "   print('Hello, World.')"
      ],
      "metadata": {
        "colab": {
          "base_uri": "https://localhost:8080/"
        },
        "id": "Yy7dw7oBCKli",
        "outputId": "1247b277-83c5-47d2-a6a5-fa47b7136d52"
      },
      "execution_count": null,
      "outputs": [
        {
          "output_type": "stream",
          "name": "stdout",
          "text": [
            "Hello, World.\n",
            "Hello, World.\n",
            "Hello, World.\n",
            "Hello, World.\n",
            "Hello, World.\n",
            "Hello, World.\n",
            "Hello, World.\n",
            "Hello, World.\n",
            "Hello, World.\n",
            "Hello, World.\n",
            "Hello, World.\n",
            "Hello, World.\n",
            "Hello, World.\n",
            "Hello, World.\n",
            "Hello, World.\n",
            "Hello, World.\n",
            "Hello, World.\n",
            "Hello, World.\n",
            "Hello, World.\n",
            "Hello, World.\n",
            "Hello, World.\n",
            "Hello, World.\n",
            "Hello, World.\n",
            "Hello, World.\n",
            "Hello, World.\n",
            "Hello, World.\n",
            "Hello, World.\n",
            "Hello, World.\n",
            "Hello, World.\n",
            "Hello, World.\n",
            "Hello, World.\n",
            "Hello, World.\n"
          ]
        }
      ]
    },
    {
      "cell_type": "code",
      "source": [
        "car = ('red', 'auto', 12, 3812.4)"
      ],
      "metadata": {
        "id": "fV2UcZz_DXfx"
      },
      "execution_count": null,
      "outputs": []
    },
    {
      "cell_type": "code",
      "source": [
        "color, _, _, mileage = car"
      ],
      "metadata": {
        "id": "QubwOfe5D1x4"
      },
      "execution_count": null,
      "outputs": []
    },
    {
      "cell_type": "code",
      "source": [
        "_"
      ],
      "metadata": {
        "colab": {
          "base_uri": "https://localhost:8080/"
        },
        "id": "LquNA6j-D4sK",
        "outputId": "c479d5e2-eed5-43a6-8908-feebc41b129b"
      },
      "execution_count": null,
      "outputs": [
        {
          "output_type": "execute_result",
          "data": {
            "text/plain": [
              "12"
            ]
          },
          "metadata": {},
          "execution_count": 29
        }
      ]
    },
    {
      "cell_type": "code",
      "source": [
        "color"
      ],
      "metadata": {
        "colab": {
          "base_uri": "https://localhost:8080/",
          "height": 36
        },
        "id": "1sgS_gR3D7yv",
        "outputId": "94c2253b-449f-4e38-f645-2514b0e78447"
      },
      "execution_count": null,
      "outputs": [
        {
          "output_type": "execute_result",
          "data": {
            "text/plain": [
              "'red'"
            ],
            "application/vnd.google.colaboratory.intrinsic+json": {
              "type": "string"
            }
          },
          "metadata": {},
          "execution_count": 30
        }
      ]
    },
    {
      "cell_type": "code",
      "source": [
        "mileage"
      ],
      "metadata": {
        "colab": {
          "base_uri": "https://localhost:8080/"
        },
        "id": "x5MBvqDPD-Cq",
        "outputId": "880c1fd8-4da3-47f6-e35d-919a81b1a8a1"
      },
      "execution_count": null,
      "outputs": [
        {
          "output_type": "execute_result",
          "data": {
            "text/plain": [
              "3812.4"
            ]
          },
          "metadata": {},
          "execution_count": 31
        }
      ]
    },
    {
      "cell_type": "code",
      "source": [
        "list()\n"
      ],
      "metadata": {
        "colab": {
          "base_uri": "https://localhost:8080/"
        },
        "id": "350BnyC5EEEq",
        "outputId": "3bfa2b9c-b64c-41d1-9d62-f22f6821f0c8"
      },
      "execution_count": null,
      "outputs": [
        {
          "output_type": "execute_result",
          "data": {
            "text/plain": [
              "[]"
            ]
          },
          "metadata": {},
          "execution_count": 37
        }
      ]
    },
    {
      "cell_type": "code",
      "source": [
        "_.append(1)"
      ],
      "metadata": {
        "colab": {
          "base_uri": "https://localhost:8080/",
          "height": 179
        },
        "id": "NY9weC7NEIDP",
        "outputId": "407fcbe1-cf5c-4251-c4c8-4d8a393b7eac"
      },
      "execution_count": null,
      "outputs": [
        {
          "output_type": "error",
          "ename": "AttributeError",
          "evalue": "ignored",
          "traceback": [
            "\u001b[0;31m---------------------------------------------------------------------------\u001b[0m",
            "\u001b[0;31mAttributeError\u001b[0m                            Traceback (most recent call last)",
            "\u001b[0;32m<ipython-input-35-5e1da503e5fa>\u001b[0m in \u001b[0;36m<cell line: 1>\u001b[0;34m()\u001b[0m\n\u001b[0;32m----> 1\u001b[0;31m \u001b[0m_\u001b[0m\u001b[0;34m.\u001b[0m\u001b[0mappend\u001b[0m\u001b[0;34m(\u001b[0m\u001b[0;36m1\u001b[0m\u001b[0;34m)\u001b[0m\u001b[0;34m\u001b[0m\u001b[0;34m\u001b[0m\u001b[0m\n\u001b[0m",
            "\u001b[0;31mAttributeError\u001b[0m: 'int' object has no attribute 'append'"
          ]
        }
      ]
    },
    {
      "cell_type": "code",
      "source": [
        "_"
      ],
      "metadata": {
        "colab": {
          "base_uri": "https://localhost:8080/"
        },
        "id": "ynFJU4i5EKok",
        "outputId": "a2892d7e-cd73-4a5e-936a-fd4c60756bd6"
      },
      "execution_count": null,
      "outputs": [
        {
          "output_type": "execute_result",
          "data": {
            "text/plain": [
              "12"
            ]
          },
          "metadata": {},
          "execution_count": 36
        }
      ]
    },
    {
      "cell_type": "code",
      "source": [
        "20 + 34"
      ],
      "metadata": {
        "colab": {
          "base_uri": "https://localhost:8080/"
        },
        "id": "Pf-DxZXrEUog",
        "outputId": "3ed89447-1467-4bb2-ebf8-997749485364"
      },
      "execution_count": null,
      "outputs": [
        {
          "output_type": "execute_result",
          "data": {
            "text/plain": [
              "54"
            ]
          },
          "metadata": {},
          "execution_count": 41
        }
      ]
    },
    {
      "cell_type": "code",
      "source": [
        "print(_)"
      ],
      "metadata": {
        "colab": {
          "base_uri": "https://localhost:8080/"
        },
        "id": "Q3fTrtpUEbz2",
        "outputId": "ed8c1aa7-c4be-4339-fbdd-3381f25267d2"
      },
      "execution_count": null,
      "outputs": [
        {
          "output_type": "stream",
          "name": "stdout",
          "text": [
            "12\n"
          ]
        }
      ]
    },
    {
      "cell_type": "markdown",
      "source": [
        "\n",
        "\n",
        "## strings foramtting\n",
        "4 ways and rules about them"
      ],
      "metadata": {
        "id": "oTFWiofjEcwB"
      }
    },
    {
      "cell_type": "code",
      "source": [
        "errno = 50159747054\n",
        "name = 'Boerb'"
      ],
      "metadata": {
        "id": "xIbnLV-iOO9_"
      },
      "execution_count": null,
      "outputs": []
    },
    {
      "cell_type": "code",
      "source": [
        "'Hello, %s' % name  #%  name extracted the saved variable and sent it to %s"
      ],
      "metadata": {
        "colab": {
          "base_uri": "https://localhost:8080/",
          "height": 36
        },
        "id": "YLzguayIP4tv",
        "outputId": "a9a31872-5ed9-421e-9c0c-088222648148"
      },
      "execution_count": null,
      "outputs": [
        {
          "output_type": "execute_result",
          "data": {
            "text/plain": [
              "'Hello, Bob'"
            ],
            "application/vnd.google.colaboratory.intrinsic+json": {
              "type": "string"
            }
          },
          "metadata": {},
          "execution_count": 44
        }
      ]
    },
    {
      "cell_type": "code",
      "source": [
        "'%x' % errno   #%` èrror converted the saved variable into hexadecimal number and sent it to %x"
      ],
      "metadata": {
        "colab": {
          "base_uri": "https://localhost:8080/",
          "height": 36
        },
        "id": "EUISzQ1FP9Pv",
        "outputId": "2e8b2f89-35cd-49d1-94b3-57b0bb0dfa82"
      },
      "execution_count": null,
      "outputs": [
        {
          "output_type": "execute_result",
          "data": {
            "text/plain": [
              "'badc0ffee'"
            ],
            "application/vnd.google.colaboratory.intrinsic+json": {
              "type": "string"
            }
          },
          "metadata": {},
          "execution_count": 45
        }
      ]
    },
    {
      "cell_type": "code",
      "source": [
        "'Hey %s, there is a 0x%x error!' % (name, errno)"
      ],
      "metadata": {
        "colab": {
          "base_uri": "https://localhost:8080/",
          "height": 36
        },
        "id": "TDyzdgNyQB_Y",
        "outputId": "24408aee-5659-42e2-b4f8-e06a0b735123"
      },
      "execution_count": null,
      "outputs": [
        {
          "output_type": "execute_result",
          "data": {
            "text/plain": [
              "'Hey Bob, there is a 0xbadc0ffee error!'"
            ],
            "application/vnd.google.colaboratory.intrinsic+json": {
              "type": "string"
            }
          },
          "metadata": {},
          "execution_count": 46
        }
      ]
    },
    {
      "cell_type": "code",
      "source": [
        "'Hey %(name)s, there is a 0x%(errno)x error!' % {\n",
        " \"name\": name, \"errno\": errno }"
      ],
      "metadata": {
        "colab": {
          "base_uri": "https://localhost:8080/",
          "height": 36
        },
        "id": "gRmoaTMFQQ5a",
        "outputId": "e2dcbd02-0bc8-4bf6-b91e-31fdcb1aeaaf"
      },
      "execution_count": null,
      "outputs": [
        {
          "output_type": "execute_result",
          "data": {
            "text/plain": [
              "'Hey Bob, there is a 0xbadc0ffee error!'"
            ],
            "application/vnd.google.colaboratory.intrinsic+json": {
              "type": "string"
            }
          },
          "metadata": {},
          "execution_count": 47
        }
      ]
    },
    {
      "cell_type": "code",
      "source": [
        "# – “New Style” String Formatting\n",
        "'Hello, {}'.format(name)"
      ],
      "metadata": {
        "colab": {
          "base_uri": "https://localhost:8080/",
          "height": 36
        },
        "id": "2RpuYwE8QgNy",
        "outputId": "3c675ce8-3627-4c33-da2d-8d0f06e08c30"
      },
      "execution_count": null,
      "outputs": [
        {
          "output_type": "execute_result",
          "data": {
            "text/plain": [
              "'Hello, Bob'"
            ],
            "application/vnd.google.colaboratory.intrinsic+json": {
              "type": "string"
            }
          },
          "metadata": {},
          "execution_count": 48
        }
      ]
    },
    {
      "cell_type": "code",
      "source": [
        "'Hey {name}, there is a 0x{errno:x} error!'.format( name=name, errno=errno)"
      ],
      "metadata": {
        "colab": {
          "base_uri": "https://localhost:8080/",
          "height": 36
        },
        "id": "9IsAyGZ6Qsza",
        "outputId": "53c2add1-06ad-4ef8-9c80-d50d84c44ec0"
      },
      "execution_count": null,
      "outputs": [
        {
          "output_type": "execute_result",
          "data": {
            "text/plain": [
              "'Hey Bob, there is a 0xbadc0ffee error!'"
            ],
            "application/vnd.google.colaboratory.intrinsic+json": {
              "type": "string"
            }
          },
          "metadata": {},
          "execution_count": 49
        }
      ]
    },
    {
      "cell_type": "code",
      "source": [
        "f'Hello, {name}!'"
      ],
      "metadata": {
        "colab": {
          "base_uri": "https://localhost:8080/",
          "height": 36
        },
        "id": "qxZKHqRcQ5j_",
        "outputId": "43be136e-40ff-4c37-b12a-0ddaa594e1fe"
      },
      "execution_count": null,
      "outputs": [
        {
          "output_type": "execute_result",
          "data": {
            "text/plain": [
              "'Hello, Bob!'"
            ],
            "application/vnd.google.colaboratory.intrinsic+json": {
              "type": "string"
            }
          },
          "metadata": {},
          "execution_count": 50
        }
      ]
    },
    {
      "cell_type": "code",
      "source": [
        "# Literal String Interpolation (Python 3.6+)\n",
        "a = 5\n",
        "b = 10\n",
        "\n",
        "f'Five plus ten is {a + b} and not {2 * (a + b)}.'"
      ],
      "metadata": {
        "colab": {
          "base_uri": "https://localhost:8080/",
          "height": 36
        },
        "id": "zyTgWaRKQ-fH",
        "outputId": "20fedfd9-ac60-4cec-db01-233f44f6adeb"
      },
      "execution_count": null,
      "outputs": [
        {
          "output_type": "execute_result",
          "data": {
            "text/plain": [
              "'Five plus ten is 15 and not 30.'"
            ],
            "application/vnd.google.colaboratory.intrinsic+json": {
              "type": "string"
            }
          },
          "metadata": {},
          "execution_count": 51
        }
      ]
    },
    {
      "cell_type": "code",
      "source": [
        "def greet(name, question):\n",
        "   return f\"Hello, {name}! How's it {question}?\""
      ],
      "metadata": {
        "id": "3XWIb3UFRRwT"
      },
      "execution_count": null,
      "outputs": []
    },
    {
      "cell_type": "code",
      "source": [
        "greet('Bob', 'going')"
      ],
      "metadata": {
        "colab": {
          "base_uri": "https://localhost:8080/",
          "height": 36
        },
        "id": "VTsTmd27RdBb",
        "outputId": "3cade09f-6e03-48dc-a748-60fd3e7dc519"
      },
      "execution_count": null,
      "outputs": [
        {
          "output_type": "execute_result",
          "data": {
            "text/plain": [
              "\"Hello, Bob! How's it going?\""
            ],
            "application/vnd.google.colaboratory.intrinsic+json": {
              "type": "string"
            }
          },
          "metadata": {},
          "execution_count": 53
        }
      ]
    },
    {
      "cell_type": "code",
      "source": [
        "#4 Template Strings\n",
        "from string import Template"
      ],
      "metadata": {
        "id": "YOkXU0uIRiLt"
      },
      "execution_count": null,
      "outputs": []
    },
    {
      "cell_type": "code",
      "source": [
        "t = Template('Hey, $name!')\n",
        "t.substitute(name=name)"
      ],
      "metadata": {
        "colab": {
          "base_uri": "https://localhost:8080/",
          "height": 36
        },
        "id": "6sENlQElRzzW",
        "outputId": "7dc6962e-3858-4cf3-9fcc-747ac4555ced"
      },
      "execution_count": null,
      "outputs": [
        {
          "output_type": "execute_result",
          "data": {
            "text/plain": [
              "'Hey, Bob!'"
            ],
            "application/vnd.google.colaboratory.intrinsic+json": {
              "type": "string"
            }
          },
          "metadata": {},
          "execution_count": 55
        }
      ]
    },
    {
      "cell_type": "code",
      "source": [
        "templ_string = 'Hey $name, there is a $error error!'\n",
        "Template(templ_string).substitute(\n",
        "name=name, error=hex(errno))"
      ],
      "metadata": {
        "colab": {
          "base_uri": "https://localhost:8080/",
          "height": 36
        },
        "id": "7tXPMReER6vo",
        "outputId": "abd7dfbf-16ed-4774-c0d3-3c79ebb1c6b7"
      },
      "execution_count": null,
      "outputs": [
        {
          "output_type": "execute_result",
          "data": {
            "text/plain": [
              "'Hey Bob, there is a 0xbadc0ffee error!'"
            ],
            "application/vnd.google.colaboratory.intrinsic+json": {
              "type": "string"
            }
          },
          "metadata": {},
          "execution_count": 56
        }
      ]
    },
    {
      "cell_type": "code",
      "source": [
        "SECRET = 'this-is-a-secret'\n",
        "class Error:\n",
        "   def __init__(self):\n",
        "    pass\n",
        "err = Error()\n",
        "user_input = '{error.__init__.__globals__[SECRET]}'\n",
        "# Uh-oh...\n",
        "user_input.format(error=err)"
      ],
      "metadata": {
        "colab": {
          "base_uri": "https://localhost:8080/",
          "height": 36
        },
        "id": "4LZ01tkjTgXK",
        "outputId": "b3d7626c-2cd4-479c-9b76-6a9b8c3cc379"
      },
      "execution_count": null,
      "outputs": [
        {
          "output_type": "execute_result",
          "data": {
            "text/plain": [
              "'this-is-a-secret'"
            ],
            "application/vnd.google.colaboratory.intrinsic+json": {
              "type": "string"
            }
          },
          "metadata": {},
          "execution_count": 58
        }
      ]
    },
    {
      "cell_type": "code",
      "source": [
        "Template(user_input).substitute(error=err)\n",
        "\n",
        "  ## the users iss secured"
      ],
      "metadata": {
        "colab": {
          "base_uri": "https://localhost:8080/",
          "height": 329
        },
        "id": "7j3C93m3UW-l",
        "outputId": "5f66544e-69e8-463a-8a61-daac1b8ef095"
      },
      "execution_count": null,
      "outputs": [
        {
          "output_type": "error",
          "ename": "ValueError",
          "evalue": "ignored",
          "traceback": [
            "\u001b[0;31m---------------------------------------------------------------------------\u001b[0m",
            "\u001b[0;31mValueError\u001b[0m                                Traceback (most recent call last)",
            "\u001b[0;32m<ipython-input-60-4af7bcbe4c6d>\u001b[0m in \u001b[0;36m<cell line: 1>\u001b[0;34m()\u001b[0m\n\u001b[0;32m----> 1\u001b[0;31m \u001b[0mTemplate\u001b[0m\u001b[0;34m(\u001b[0m\u001b[0muser_input\u001b[0m\u001b[0;34m)\u001b[0m\u001b[0;34m.\u001b[0m\u001b[0msubstitute\u001b[0m\u001b[0;34m(\u001b[0m\u001b[0merror\u001b[0m\u001b[0;34m=\u001b[0m\u001b[0merr\u001b[0m\u001b[0;34m)\u001b[0m\u001b[0;34m\u001b[0m\u001b[0;34m\u001b[0m\u001b[0m\n\u001b[0m",
            "\u001b[0;32m/usr/lib/python3.10/string.py\u001b[0m in \u001b[0;36msubstitute\u001b[0;34m(self, mapping, **kws)\u001b[0m\n\u001b[1;32m    119\u001b[0m             raise ValueError('Unrecognized named group in pattern',\n\u001b[1;32m    120\u001b[0m                              self.pattern)\n\u001b[0;32m--> 121\u001b[0;31m         \u001b[0;32mreturn\u001b[0m \u001b[0mself\u001b[0m\u001b[0;34m.\u001b[0m\u001b[0mpattern\u001b[0m\u001b[0;34m.\u001b[0m\u001b[0msub\u001b[0m\u001b[0;34m(\u001b[0m\u001b[0mconvert\u001b[0m\u001b[0;34m,\u001b[0m \u001b[0mself\u001b[0m\u001b[0;34m.\u001b[0m\u001b[0mtemplate\u001b[0m\u001b[0;34m)\u001b[0m\u001b[0;34m\u001b[0m\u001b[0;34m\u001b[0m\u001b[0m\n\u001b[0m\u001b[1;32m    122\u001b[0m \u001b[0;34m\u001b[0m\u001b[0m\n\u001b[1;32m    123\u001b[0m     \u001b[0;32mdef\u001b[0m \u001b[0msafe_substitute\u001b[0m\u001b[0;34m(\u001b[0m\u001b[0mself\u001b[0m\u001b[0;34m,\u001b[0m \u001b[0mmapping\u001b[0m\u001b[0;34m=\u001b[0m\u001b[0m_sentinel_dict\u001b[0m\u001b[0;34m,\u001b[0m \u001b[0;34m/\u001b[0m\u001b[0;34m,\u001b[0m \u001b[0;34m**\u001b[0m\u001b[0mkws\u001b[0m\u001b[0;34m)\u001b[0m\u001b[0;34m:\u001b[0m\u001b[0;34m\u001b[0m\u001b[0;34m\u001b[0m\u001b[0m\n",
            "\u001b[0;32m/usr/lib/python3.10/string.py\u001b[0m in \u001b[0;36mconvert\u001b[0;34m(mo)\u001b[0m\n\u001b[1;32m    116\u001b[0m                 \u001b[0;32mreturn\u001b[0m \u001b[0mself\u001b[0m\u001b[0;34m.\u001b[0m\u001b[0mdelimiter\u001b[0m\u001b[0;34m\u001b[0m\u001b[0;34m\u001b[0m\u001b[0m\n\u001b[1;32m    117\u001b[0m             \u001b[0;32mif\u001b[0m \u001b[0mmo\u001b[0m\u001b[0;34m.\u001b[0m\u001b[0mgroup\u001b[0m\u001b[0;34m(\u001b[0m\u001b[0;34m'invalid'\u001b[0m\u001b[0;34m)\u001b[0m \u001b[0;32mis\u001b[0m \u001b[0;32mnot\u001b[0m \u001b[0;32mNone\u001b[0m\u001b[0;34m:\u001b[0m\u001b[0;34m\u001b[0m\u001b[0;34m\u001b[0m\u001b[0m\n\u001b[0;32m--> 118\u001b[0;31m                 \u001b[0mself\u001b[0m\u001b[0;34m.\u001b[0m\u001b[0m_invalid\u001b[0m\u001b[0;34m(\u001b[0m\u001b[0mmo\u001b[0m\u001b[0;34m)\u001b[0m\u001b[0;34m\u001b[0m\u001b[0;34m\u001b[0m\u001b[0m\n\u001b[0m\u001b[1;32m    119\u001b[0m             raise ValueError('Unrecognized named group in pattern',\n\u001b[1;32m    120\u001b[0m                              self.pattern)\n",
            "\u001b[0;32m/usr/lib/python3.10/string.py\u001b[0m in \u001b[0;36m_invalid\u001b[0;34m(self, mo)\u001b[0m\n\u001b[1;32m     99\u001b[0m             \u001b[0mcolno\u001b[0m \u001b[0;34m=\u001b[0m \u001b[0mi\u001b[0m \u001b[0;34m-\u001b[0m \u001b[0mlen\u001b[0m\u001b[0;34m(\u001b[0m\u001b[0;34m''\u001b[0m\u001b[0;34m.\u001b[0m\u001b[0mjoin\u001b[0m\u001b[0;34m(\u001b[0m\u001b[0mlines\u001b[0m\u001b[0;34m[\u001b[0m\u001b[0;34m:\u001b[0m\u001b[0;34m-\u001b[0m\u001b[0;36m1\u001b[0m\u001b[0;34m]\u001b[0m\u001b[0;34m)\u001b[0m\u001b[0;34m)\u001b[0m\u001b[0;34m\u001b[0m\u001b[0;34m\u001b[0m\u001b[0m\n\u001b[1;32m    100\u001b[0m             \u001b[0mlineno\u001b[0m \u001b[0;34m=\u001b[0m \u001b[0mlen\u001b[0m\u001b[0;34m(\u001b[0m\u001b[0mlines\u001b[0m\u001b[0;34m)\u001b[0m\u001b[0;34m\u001b[0m\u001b[0;34m\u001b[0m\u001b[0m\n\u001b[0;32m--> 101\u001b[0;31m         raise ValueError('Invalid placeholder in string: line %d, col %d' %\n\u001b[0m\u001b[1;32m    102\u001b[0m                          (lineno, colno))\n\u001b[1;32m    103\u001b[0m \u001b[0;34m\u001b[0m\u001b[0m\n",
            "\u001b[0;31mValueError\u001b[0m: Invalid placeholder in string: line 1, col 1"
          ]
        }
      ]
    },
    {
      "cell_type": "markdown",
      "source": [
        "          Dan’s Python String Formatting Rule of Thumb:\n",
        "          If your format strings are user-supplied, use Template\n",
        "          Strings to avoid security issues. Otherwise, use Literal\n",
        "          String Interpolation if you’re on Python 3.6+, and “New\n",
        "          Style” String Formatting if you’re not."
      ],
      "metadata": {
        "id": "Z0ID8LodUn1v"
      }
    }
  ]
}